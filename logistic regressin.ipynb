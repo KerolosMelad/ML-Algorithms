{
 "cells": [
  {
   "cell_type": "markdown",
   "id": "0f6b3e6c-bd5d-40c4-b5d2-138771a38b45",
   "metadata": {},
   "source": [
    "# Logistic Regression "
   ]
  },
  {
   "cell_type": "code",
   "execution_count": 1,
   "id": "0a7454eb-39e4-492b-af0f-3554a4d0b917",
   "metadata": {},
   "outputs": [],
   "source": [
    "import numpy as np "
   ]
  },
  {
   "cell_type": "code",
   "execution_count": 194,
   "id": "2a4119c3-edd6-4ee0-b412-54c6a0c0267f",
   "metadata": {},
   "outputs": [],
   "source": [
    "def sigmoid (z):\n",
    "    return   1 / (1 + np.exp(-z))"
   ]
  },
  {
   "cell_type": "code",
   "execution_count": 250,
   "id": "c6928d6c-f619-4ba2-aeae-6f7328c530fa",
   "metadata": {},
   "outputs": [],
   "source": [
    "class LR:\n",
    "    lr= 0.01\n",
    "    num_iters =100 \n",
    "    weights = 0  \n",
    "\n",
    "\n",
    "    def __init__(self , lr , num_iters):\n",
    "        self.lr  =lr\n",
    "        self.num_iters = num_iters\n",
    "        \n",
    "    def GD_train(self,x, y):\n",
    "        self.weights = np.random.randn(x.shape[1]+1,1) # add bias term\n",
    "        x =np.append(x, np.ones((x.shape[0],1)), axis=1) # add one term\n",
    "        for i in range(0, self.num_iters): \n",
    "            \n",
    "            # indexes = np.random.randint(0, len(X), batch_size) # random sample     SGD\n",
    "            #Xs = np.take(x, indexes) SGD\n",
    "            #ys = np.take(y, indexes)  SGD\n",
    "            \n",
    "            z = np.dot(x,self.weights)\n",
    "            h = sigmoid(z)\n",
    "            self.weights = self.weights - (self.lr/len(x)) * np.dot(x.transpose(),(h-y.reshape(h.shape[0],1)))\n",
    "\n",
    "        return self.weights\n",
    "    \n",
    "    def predict(self,x):\n",
    "        x =np.append(x, np.ones((x.shape[0],1)), axis=1) # add one term\n",
    "        preds = sigmoid(np.dot(x,self.weights))\n",
    "        preds[preds >= 0.5] =1\n",
    "        preds[preds<0.5] = 0\n",
    "        return preds  \n",
    "    \n",
    "    def test(self,preds , y_test):\n",
    "        return (np.squeeze(y_test) == np.squeeze(preds)) .sum()/len(y_test)"
   ]
  },
  {
   "cell_type": "code",
   "execution_count": 230,
   "id": "c22d8f69-c51f-4ea3-b43f-26735ac4e294",
   "metadata": {},
   "outputs": [],
   "source": [
    "dataset2 = [[ 0.2, -1,  0. ],\n",
    "            [ 0.2,  -1, 0. ],\n",
    "            [ 0.2,  -1, 0. ],\n",
    "            [ 0.2,  -1, 0. ],\n",
    "            [ 0.2,  -2, 0. ],\n",
    "            [ 0.4,  -2, 0. ],\n",
    "            [ 0.3,  -2, 0. ],\n",
    "            [ 0.2,   -2,0. ],\n",
    "            [ 0.2,  -4, 0. ],\n",
    "            [ 0.1,  -5, 0. ],\n",
    "            [ 1.4,   2,1. ],\n",
    "            [ 1.5,  2, 1. ],\n",
    "            [ 1.5,  2, 1. ],\n",
    "            [ 1.3,  2, 1. ],\n",
    "            [ 1.5,  5, 1. ],\n",
    "            [ 1.3,   2,1. ],\n",
    "            [ 1.6,  2, 1. ],\n",
    "            [ 1. ,  2, 1. ],\n",
    "            [ 1.3,  2, 1. ],\n",
    "            [ 1.4,  2, 1. ]]"
   ]
  },
  {
   "cell_type": "code",
   "execution_count": 243,
   "id": "1dc5d604-7b33-4418-8fe5-955a98614c3e",
   "metadata": {},
   "outputs": [],
   "source": [
    "X = np.array(dataset2)[:, 0:2]\n",
    "y = np.array(dataset2)[:, 2]"
   ]
  },
  {
   "cell_type": "code",
   "execution_count": 244,
   "id": "ad3a4d3b-e7dd-43d9-b937-cb544b840c81",
   "metadata": {},
   "outputs": [],
   "source": [
    "lr = LR(0.001 , 1000)"
   ]
  },
  {
   "cell_type": "code",
   "execution_count": 245,
   "id": "291ac560-ef42-4bdf-a6f3-2583cfa86b6c",
   "metadata": {},
   "outputs": [
    {
     "data": {
      "text/plain": [
       "array([[-1.02502669],\n",
       "       [ 1.68570934],\n",
       "       [ 0.63119814]])"
      ]
     },
     "execution_count": 245,
     "metadata": {},
     "output_type": "execute_result"
    }
   ],
   "source": [
    "lr.GD_train(X,y)"
   ]
  },
  {
   "cell_type": "code",
   "execution_count": 249,
   "id": "239b11fc-5ae1-4b8e-9a6f-5b44bb815aef",
   "metadata": {},
   "outputs": [],
   "source": [
    "preds = lr.predict(X)"
   ]
  },
  {
   "cell_type": "code",
   "execution_count": 247,
   "id": "0c1c783b-743d-4f96-8eec-50fbd78dad57",
   "metadata": {},
   "outputs": [
    {
     "data": {
      "text/plain": [
       "1.0"
      ]
     },
     "execution_count": 247,
     "metadata": {},
     "output_type": "execute_result"
    }
   ],
   "source": [
    "lr.test(preds ,y)"
   ]
  },
  {
   "cell_type": "code",
   "execution_count": null,
   "id": "b85e77e3-9b81-46cb-9c22-2df0bfa4e5dd",
   "metadata": {},
   "outputs": [],
   "source": []
  },
  {
   "cell_type": "code",
   "execution_count": null,
   "id": "b5390e0d-a392-47aa-8863-137d19d2ccd6",
   "metadata": {},
   "outputs": [],
   "source": []
  },
  {
   "cell_type": "code",
   "execution_count": null,
   "id": "05aabd94-3f07-4041-935a-832068f35320",
   "metadata": {},
   "outputs": [],
   "source": []
  }
 ],
 "metadata": {
  "kernelspec": {
   "display_name": "Python 3",
   "language": "python",
   "name": "python3"
  },
  "language_info": {
   "codemirror_mode": {
    "name": "ipython",
    "version": 3
   },
   "file_extension": ".py",
   "mimetype": "text/x-python",
   "name": "python",
   "nbconvert_exporter": "python",
   "pygments_lexer": "ipython3",
   "version": "3.8.11"
  }
 },
 "nbformat": 4,
 "nbformat_minor": 5
}
