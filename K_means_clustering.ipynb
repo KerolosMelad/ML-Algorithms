{
  "cells": [
    {
      "cell_type": "markdown",
      "metadata": {
        "id": "RqAjw8N78myK"
      },
      "source": [
        "<h1><center>K means clustering</center></h1>\n",
        "<hr style=\"border:2px solid black\"> </hr>"
      ]
    },
    {
      "cell_type": "markdown",
      "metadata": {
        "id": "7xRIWeqH8myR"
      },
      "source": [
        ""
      ]
    },
    {
      "cell_type": "markdown",
      "metadata": {
        "id": "q-UpBSlB8myS"
      },
      "source": [
        "## Imports "
      ]
    },
    {
      "cell_type": "code",
      "execution_count": null,
      "metadata": {
        "id": "mks4s13q8myT"
      },
      "outputs": [],
      "source": [
        "# ONLY USE THESE IMPORTS.\n",
        "import numpy as np\n",
        "import matplotlib.pyplot as plt\n",
        "%matplotlib inline\n",
        "import math"
      ]
    },
    {
      "cell_type": "markdown",
      "metadata": {
        "id": "RaaTDhle8myU"
      },
      "source": [
        "## Read Data"
      ]
    },
    {
      "cell_type": "code",
      "execution_count": null,
      "metadata": {
        "id": "NHNoYyAD87xv"
      },
      "outputs": [],
      "source": [
        ""
      ]
    },
    {
      "cell_type": "code",
      "execution_count": null,
      "metadata": {
        "id": "qfZci2mJ8-ti",
        "tags": []
      },
      "outputs": [],
      "source": [
        ""
      ]
    },
    {
      "cell_type": "code",
      "execution_count": null,
      "metadata": {
        "colab": {
          "base_uri": "https://localhost:8080/"
        },
        "id": "uiQeyTAi8myU",
        "outputId": "152d50c6-5c07-451b-e8b6-46d65dd6cd18"
      },
      "outputs": [
        {
          "name": "stdout",
          "output_type": "stream",
          "text": [
            "(15000, 3072) (15000, 1) (3000, 3072) (3000, 1)\n"
          ]
        }
      ],
      "source": [
        "# Read Training Images, Testing Images, Training Labels, Testing Labels\n",
        "def read_rgb(path,q):\n",
        "    data =np.array([plt.imread(path+str(i)+'.jpg').reshape(-1) for i in range (0,q)])\n",
        "    return data\n",
        "#----------------------------------------------------------------------------------------------------------\n",
        "train_air = read_rgb('Data/train/airplane/',5000)\n",
        "train_auto = read_rgb('Data/train/bird/',5000)\n",
        "train_frog = read_rgb('Data/train/truck/',5000)\n",
        "#----------------------------------------------------------------------------------------------------------\n",
        "test_air = read_rgb('Data/test/airplane/',1000)\n",
        "test_auto = read_rgb('Data/test/bird/',1000)\n",
        "test_frog = read_rgb('Data/test/truck/',1000)\n",
        "#----------------------------------------------------------------------------------------------------------\n",
        "\n",
        "X_train= np.concatenate((train_air,train_auto,train_frog),axis=0) /255\n",
        "y_train = np.concatenate((np.full((len(train_air),1),1),np.full((len(train_auto),1),2),np.full((len(train_frog),1),3)),axis=0)\n",
        "X_test = np.concatenate((test_air,test_auto,test_frog),axis=0) /255\n",
        "y_test = np.concatenate((np.full((len(test_air),1),1),np.full((len(test_auto),1),2),np.full((len(test_frog),1),3)),axis=0)\n",
        "\n",
        "print(X_train.shape, y_train.shape ,X_test.shape ,y_test.shape )"
      ]
    },
    {
      "cell_type": "markdown",
      "metadata": {
        "id": "A0dejx5L8myV"
      },
      "source": [
        "<hr style=\"border:2px solid black\"> </hr>\n",
        "# Perform K means clustering for all 3 classes (Training Data).\n",
        "### Return (memberships, centroids, dbi) --> (vector, matrix, scalar value)."
      ]
    },
    {
      "cell_type": "code",
      "execution_count": null,
      "metadata": {
        "id": "BpOCO2HB8myW"
      },
      "outputs": [],
      "source": [
        "def KMeans_train():\n",
        "    r1=np.random.randint(0, 15000)\n",
        "    c0=X_train[r1]\n",
        "    r2=np.random.randint(0, 15000)\n",
        "    c1=X_train[r2]\n",
        "    r3=np.random.randint(0, 15000)\n",
        "    c2=X_train[r3]\n",
        "    \n",
        "    \n",
        "    oldc0=-1*c1\n",
        "    oldc1=-1*c2\n",
        "    oldc2=-1*c0\n",
        "\n",
        "    clustering=[]\n",
        "    clus0=[]\n",
        "    clus1=[]\n",
        "    clus2=[]\n",
        "    clus0d=[]\n",
        "    clus1d=[]\n",
        "    clus2d=[]\n",
        "\n",
        "    while(not((c0==oldc0).all() and (c1==oldc1).all() and (c2==oldc2).all())):\n",
        "        oldc0=c0\n",
        "        oldc1=c1\n",
        "        oldc2=c2\n",
        "        clustering=[]\n",
        "        clus0=[]\n",
        "        clus1=[]\n",
        "        clus2=[]\n",
        "        clus0d=[]\n",
        "        clus1d=[]\n",
        "        clus2d=[]\n",
        "\n",
        "        for i in range(0,len(X_train)):\n",
        "            d0=np.linalg.norm(c0-X_train[i])\n",
        "            d1=np.linalg.norm(c1-X_train[i])\n",
        "            d2=np.linalg.norm(c2-X_train[i])\n",
        "\n",
        "            if d0==min(d0,d1,d2):\n",
        "                clustering.append(0)\n",
        "                clus0.append(X_train[i])\n",
        "                clus0d.append(d0)\n",
        "            elif d1==min(d0,d1,d2):\n",
        "                clustering.append(1)\n",
        "                clus1.append(X_train[i])\n",
        "                clus1d.append(d1)\n",
        "\n",
        "            else:\n",
        "                clustering.append(2)\n",
        "                clus2.append(X_train[i])\n",
        "                clus2d.append(d2)\n",
        "                \n",
        "\n",
        "        c0=np.mean(clus0,axis=0)\n",
        "        c1=np.mean(clus1,axis=0)\n",
        "        c2=np.mean(clus2,axis=0)\n",
        "        \n",
        "    print(\"=> CONVERGENCE <=\")\n",
        "\n",
        "    s0=np.mean(clus0d)\n",
        "    s1=np.mean(clus1d)\n",
        "    s2=np.mean(clus2d)\n",
        "\n",
        "    m01=np.linalg.norm(c0-c1)\n",
        "    m02=np.linalg.norm(c0-c2)\n",
        "    m12=np.linalg.norm(c1-c2)\n",
        "\n",
        "    r01=(s0+s1)/m01\n",
        "    r02=(s0+s2)/m02\n",
        "    r12=(s1+s2)/m12\n",
        "\n",
        "    memberships=clustering\n",
        "    dbi=max(r01,r02,r12)\n",
        "    centroids = [c0,c1,c2]\n",
        "\n",
        "\n",
        "    return memberships, centroids, dbi"
      ]
    },
    {
      "cell_type": "markdown",
      "metadata": {
        "id": "s2Cz0lDI8myX"
      },
      "source": [
        "<hr style=\"border:2px solid black\"> </hr>\n",
        "\n",
        "# Repeat the previous process 10 times. \n",
        "### Pick the membership vector and the centroids matrix corresponding to the best dbi.\n",
        "##### Make sure you return max_counts and confusion_matrix.\n",
        "(keep history in whatever datastructure you like)."
      ]
    },
    {
      "cell_type": "code",
      "execution_count": null,
      "metadata": {
        "id": "qk6nZq1B1gOO"
      },
      "outputs": [],
      "source": [
        "def counts_train(i ,memberships):\n",
        "    if(i ==0 ):\n",
        "        x =memberships[:5000]        \n",
        "    elif(i==1):\n",
        "        x =memberships[5000:10000]\n",
        "    elif(i==2):\n",
        "        x =memberships[10000:15000]\n",
        "  \n",
        "    counts =[x.count(0),x.count(1),x.count(2)]\n",
        "    count = max(counts)\n",
        "    index = counts.index(count)\n",
        "    return count , index ,counts\n",
        "\n",
        "def counts_test(i ,memberships):\n",
        "    if(i ==0 ):\n",
        "        x =memberships[:1000]        \n",
        "    elif(i==1):\n",
        "        x =memberships[1000:2000]\n",
        "    elif(i==2):\n",
        "        x =memberships[2000:3000]\n",
        "  \n",
        "    counts =[x.count(0),x.count(1),x.count(2)]\n",
        "\n",
        "    return counts"
      ]
    },
    {
      "cell_type": "code",
      "execution_count": null,
      "metadata": {
        "id": "vEouegIC1gOO"
      },
      "outputs": [],
      "source": [
        "def test(c0,c1,c2):\n",
        "    clustering =[] \n",
        "    for i in range(0,len(X_test)):\n",
        "        d0=np.linalg.norm(c0-X_test[i])\n",
        "        d1=np.linalg.norm(c1-X_test[i])\n",
        "        d2=np.linalg.norm(c2-X_test[i])\n",
        "\n",
        "        if d0==min(d0,d1,d2):\n",
        "            clustering.append(0)\n",
        "        elif d1==min(d0,d1,d2):\n",
        "            clustering.append(1)\n",
        "        else:\n",
        "            clustering.append(2)\n",
        "    return clustering\n",
        "    "
      ]
    },
    {
      "cell_type": "code",
      "execution_count": null,
      "metadata": {
        "colab": {
          "base_uri": "https://localhost:8080/"
        },
        "collapsed": true,
        "id": "VXxMktMZ8myY",
        "jupyter": {
          "outputs_hidden": true
        },
        "outputId": "9cef67d2-69fb-444a-d245-c8fef1b83a17",
        "tags": []
      },
      "outputs": [
        {
          "name": "stdout",
          "output_type": "stream",
          "text": [
            "iteration:  0\n",
            "=> CONVERGENCE <=\n",
            "\n",
            "\n",
            "iteration:  1\n",
            "=> CONVERGENCE <=\n",
            "\n",
            "\n",
            "iteration:  2\n",
            "=> CONVERGENCE <=\n",
            "\n",
            "\n",
            "iteration:  3\n",
            "=> CONVERGENCE <=\n",
            "\n",
            "\n",
            "iteration:  4\n",
            "=> CONVERGENCE <=\n",
            "\n",
            "\n",
            "iteration:  5\n",
            "=> CONVERGENCE <=\n",
            "\n",
            "\n",
            "iteration:  6\n",
            "=> CONVERGENCE <=\n",
            "\n",
            "\n",
            "iteration:  7\n",
            "=> CONVERGENCE <=\n",
            "\n",
            "\n",
            "iteration:  8\n",
            "=> CONVERGENCE <=\n",
            "\n",
            "\n",
            "iteration:  9\n",
            "=> CONVERGENCE <=\n",
            "\n",
            "\n"
          ]
        }
      ],
      "source": [
        "membershipsList=[]\n",
        "centroidsList=[]\n",
        "dbiList=[]\n",
        "for i in range(10):\n",
        "    print(\"iteration: \",i)\n",
        "    memberships, centroids, dbi = KMeans_train()\n",
        "    membershipsList.append(memberships)\n",
        "    centroidsList.append(centroids)\n",
        "    dbiList.append(dbi)\n",
        "    print(\"\\n\")\n",
        "\n",
        "chosenDBI=min(dbiList)\n",
        "index=dbiList.index(chosenDBI)\n",
        "chosenMembership=membershipsList[index]\n",
        "chosencentroids=centroidsList[index]\n",
        "best_membership_matrix = chosenMembership\n",
        "best_centroids = chosencentroids\n",
        "best_dbi = chosenDBI\n",
        "\n",
        "max_counts = [counts_train(0,best_membership_matrix)[0],counts_train(1,best_membership_matrix)[0] ,counts_train(2,best_membership_matrix)[0]]\n",
        "predictors = [counts_train(0,best_membership_matrix)[1],counts_train(1,best_membership_matrix)[1] ,counts_train(2,best_membership_matrix)[1]]\n",
        "\n",
        "\n",
        "predictions = test(best_centroids[predictors[0]] ,best_centroids[predictors[1]] ,best_centroids[predictors[2]])\n",
        "\n",
        "confusion_matrix = [counts_test(0,predictions),counts_test(1,predictions) ,counts_test(2,predictions)]\n",
        "\n",
        "confusion_matrix =np.array(confusion_matrix)"
      ]
    },
    {
      "cell_type": "code",
      "execution_count": null,
      "metadata": {
        "id": "rbtI7H8jhRmA"
      },
      "outputs": [],
      "source": [
        ""
      ]
    },
    {
      "cell_type": "code",
      "execution_count": null,
      "metadata": {
        "id": "eilUvLVj1gOP"
      },
      "outputs": [],
      "source": [
        ""
      ]
    },
    {
      "cell_type": "code",
      "execution_count": null,
      "metadata": {
        "tags": [],
        "id": "03Q_zYgZ1gOP"
      },
      "outputs": [],
      "source": [
        ""
      ]
    },
    {
      "cell_type": "code",
      "execution_count": null,
      "metadata": {
        "id": "57K3UfMm1gOP"
      },
      "outputs": [],
      "source": [
        ""
      ]
    },
    {
      "cell_type": "code",
      "execution_count": null,
      "metadata": {
        "id": "sasnF6Ku1gOP"
      },
      "outputs": [],
      "source": [
        ""
      ]
    },
    {
      "cell_type": "code",
      "execution_count": null,
      "metadata": {
        "id": "8_d80QaR1gOQ"
      },
      "outputs": [],
      "source": [
        ""
      ]
    },
    {
      "cell_type": "code",
      "execution_count": null,
      "metadata": {
        "id": "CXNvT9rF1gOQ"
      },
      "outputs": [],
      "source": [
        ""
      ]
    },
    {
      "cell_type": "code",
      "execution_count": null,
      "metadata": {
        "id": "PKoBMovg1gOQ"
      },
      "outputs": [],
      "source": [
        ""
      ]
    },
    {
      "cell_type": "markdown",
      "metadata": {
        "id": "CLhWfS8H8myZ"
      },
      "source": [
        "<hr style=\"border:2px solid black\"> </hr>\n",
        "\n",
        "## Don't Edit the Following Cells, Just Run & Save them."
      ]
    },
    {
      "cell_type": "code",
      "execution_count": null,
      "metadata": {
        "id": "gBtzYtP41gOQ"
      },
      "outputs": [],
      "source": [
        ""
      ]
    },
    {
      "cell_type": "code",
      "execution_count": null,
      "metadata": {
        "id": "D5qSNreD8mya",
        "outputId": "32468cda-9c75-4166-fba8-7e5f63dd4b12"
      },
      "outputs": [
        {
          "data": {
            "text/plain": [
              "Text(0.5, 1.0, 'Best Counts')"
            ]
          },
          "execution_count": 9,
          "metadata": {},
          "output_type": "execute_result"
        },
        {
          "data": {
            "image/png": "[encoded data removed]",
            "text/plain": [
              "<Figure size 720x432 with 1 Axes>"
            ]
          },
          "metadata": {
            "needs_background": "light"
          },
          "output_type": "display_data"
        }
      ],
      "source": [
        "plt.figure(figsize=(10,6))\n",
        "plt.plot(['Airplane','Bird','Truck'],max_counts,'-o')\n",
        "plt.title('Best Counts')"
      ]
    },
    {
      "cell_type": "code",
      "execution_count": null,
      "metadata": {
        "id": "Yo47ldOA8mya",
        "outputId": "13ac059a-24dc-4e51-c17d-04545114a560"
      },
      "outputs": [
        {
          "data": {
            "image/png": "[encoded data removed]",
            "text/plain": [
              "<Figure size 360x360 with 1 Axes>"
            ]
          },
          "metadata": {
            "needs_background": "light"
          },
          "output_type": "display_data"
        }
      ],
      "source": [
        "plt.rc('figure', figsize=[5,5])\n",
        "plt.matshow(confusion_matrix,cmap=\"Blues\")\n",
        "for i in range(0,confusion_matrix.shape[0]):\n",
        "    for j in range(0,confusion_matrix.shape[1]):\n",
        "        plt.annotate(confusion_matrix[i,j],(j,i))"
      ]
    },
    {
      "cell_type": "code",
      "execution_count": null,
      "metadata": {
        "id": "PTgpBSEZ1gOR"
      },
      "outputs": [],
      "source": [
        ""
      ]
    },
    {
      "cell_type": "code",
      "execution_count": null,
      "metadata": {
        "id": "2BU09AjC1gOR"
      },
      "outputs": [],
      "source": [
        ""
      ]
    },
    {
      "cell_type": "code",
      "execution_count": null,
      "metadata": {
        "id": "fTI3SWNN1gOR"
      },
      "outputs": [],
      "source": [
        ""
      ]
    }
  ],
  "metadata": {
    "colab": {
      "name": "K means clustering.ipynb",
      "provenance": []
    },
    "interpreter": {
      "hash": "31f2aee4e71d21fbe5cf8b01ff0e069b9275f58929596ceb00d14d90e3e16cd6"
    },
    "kernelspec": {
      "display_name": "Python 3 (ipykernel)",
      "language": "python",
      "name": "python3"
    },
    "language_info": {
      "codemirror_mode": {
        "name": "ipython",
        "version": 3
      },
      "file_extension": ".py",
      "mimetype": "text/x-python",
      "name": "python",
      "nbconvert_exporter": "python",
      "pygments_lexer": "ipython3",
      "version": "3.8.11"
    }
  },
  "nbformat": 4,
  "nbformat_minor": 0
}
