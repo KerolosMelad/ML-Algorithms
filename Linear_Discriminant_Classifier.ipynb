{
  "cells": [
    {
      "cell_type": "markdown",
      "metadata": {
        "id": "15P-Nb0Hz41o"
      },
      "source": [
        "<h1><center>Linear Discriminant Classifier</center></h1>\n",
        "<hr style=\"border:2px solid black\"> </hr>"
      ]
    },
    {
      "cell_type": "markdown",
      "metadata": {
        "id": "1Bi_vAwOz41p"
      },
      "source": [
        ""
      ]
    },
    {
      "cell_type": "markdown",
      "metadata": {
        "id": "qS1mJSLgz41q"
      },
      "source": [
        "## Imports"
      ]
    },
    {
      "cell_type": "code",
      "execution_count": null,
      "metadata": {
        "id": "oVU_VfLtz41q"
      },
      "outputs": [],
      "source": [
        "# ONLY USE THESE IMPORTS.\n",
        "# PLEASE DON'T EDIT THIS CELL.\n",
        "import numpy as np\n",
        "import matplotlib.pyplot as plt\n",
        "%matplotlib inline"
      ]
    },
    {
      "cell_type": "markdown",
      "metadata": {
        "id": "qQs1aGB5z41r"
      },
      "source": [
        "## Read Data"
      ]
    },
    {
      "cell_type": "code",
      "execution_count": 2,
      "metadata": {
        "id": "dLklw9Omz41r"
      },
      "outputs": [],
      "source": [
        "# Read Training Images, Testing Images, Training Labels, Testing Labels\n",
        "def read_rgb(path,q):\n",
        "    data =np.array([plt.imread(path+str(i)+'.jpg').reshape(-1) for i in range (0,q)])\n",
        "    return data\n",
        "#----------------------------------------------------------------------------------------------------------\n",
        "train_air = read_rgb('Data/train/airplane/',5000)\n",
        "train_auto = read_rgb('Data/train/automobile/',5000)\n",
        "train_frog = read_rgb('Data/train/frog/',5000)\n",
        "#----------------------------------------------------------------------------------------------------------\n",
        "test_air = read_rgb('Data/test/airplane/',1000)\n",
        "test_auto = read_rgb('Data/test/automobile/',1000)\n",
        "test_frog = read_rgb('Data/test/frog/',1000)\n",
        "#----------------------------------------------------------------------------------------------------------\n",
        "\n",
        "X_train= np.concatenate((train_air,train_auto,train_frog),axis=0) /255\n",
        "y_train = np.concatenate((np.full((len(train_air),1),1),np.full((len(train_auto),1),2),np.full((len(train_frog),1),3)),axis=0)\n",
        "X_test = np.concatenate((test_air,test_auto,test_frog),axis=0) /255\n",
        "y_test = np.concatenate((np.full((len(test_air),1),1),np.full((len(test_auto),1),2),np.full((len(test_frog),1),3)),axis=0)\n",
        "\n",
        "print(X_train.shape, y_train.shape ,X_test.shape ,y_test.shape )"
      ]
    },
    {
      "cell_type": "markdown",
      "metadata": {
        "id": "e6_rsCeAz41s"
      },
      "source": [
        "<hr style=\"border:2px solid black\"> </hr>\n",
        "\n",
        "## Construct Fischer's Linear Discriminant classifier for each of the 3 classes.\n",
        "#### Test each classifier on all images in X_Test. \n",
        "#### Construct Confusion Matrix."
      ]
    },
    {
      "cell_type": "code",
      "execution_count": null,
      "metadata": {
        "id": "YNuWkvSQz41t"
      },
      "outputs": [],
      "source": [
        "# Write code here\n",
        "def train_classifier(target ,x_train):\n",
        "    if(target == 1):\n",
        "        X1 =x_train[:5000,:]\n",
        "        X2=x_train[5000:15000,:]\n",
        "    elif(target == 2):\n",
        "        X1 =x_train[5000:10000,:]\n",
        "        X2=np.concatenate ((x_train[0:5000,:], x_train[10000:15000,:]),axis=0)\n",
        "    else:\n",
        "        X1=x_train[10000:15000,:]\n",
        "        X2 =x_train[:10000,:]\n",
        "    \n",
        "    m1 = np.mean(X1,axis=0)\n",
        "    m2 = np.mean(X2,axis=0)\n",
        "\n",
        "    tmp_0=(X1-m1).T\n",
        "    tmp_1=(X2-m2).T\n",
        "\n",
        "    Sw = tmp_0@tmp_0.T +tmp_1@tmp_1.T \n",
        "\n",
        "    W= np.linalg.pinv(Sw)@(m1-m2)\n",
        "    W0 = -0.5* (W.T @(m1+m2))\n",
        "    return W, W0\n",
        "\n",
        "# Train\n",
        "Y1=train_classifier(1,X_train)\n",
        "Y2=train_classifier(2,X_train)\n",
        "Y3=train_classifier(3,X_train)\n",
        "# Test\n",
        "def predict(imgs,Y1,Y2,Y3):\n",
        "    y_c1= imgs@(Y1[0].reshape(imgs.shape[1],1)) +Y1[1]\n",
        "    y_c2= imgs@(Y2[0].reshape(imgs.shape[1],1))+Y2[1]\n",
        "    y_c3=imgs@(Y3[0].reshape(imgs.shape[1],1))+Y3[1]\n",
        "    i =0\n",
        "    predictions =[] \n",
        "    for i in range(0,len(imgs)):\n",
        "        t1 =y_c1[i]\n",
        "        t2 = y_c2[i]\n",
        "        t3 = y_c3[i]\n",
        "        if(t1 == max(t1,t2,t3)):\n",
        "            predictions.append(1)\n",
        "        elif(t2 == max(t1,t2,t3)):\n",
        "            predictions.append(2)\n",
        "        else:\n",
        "            predictions.append(3)\n",
        "    return np.asarray(predictions)\n",
        "\n",
        "\n",
        "def helper(predictions):\n",
        "    ones = (predictions==np.ones(1000)).sum()\n",
        "    twos = (predictions==np.full((1000),2)).sum()\n",
        "    threes = (predictions==np.full((1000),3)).sum()\n",
        "    return ones,twos,threes\n",
        "\n",
        "def Calulate_ConfusionMatrix(data,Y1,Y2,Y3):\n",
        "    ConfusionMatrix = [[0 for i in range(len(data))] for j in range(len(data))] \n",
        "    for i in range (0,len(data)):\n",
        "        predictions= predict(data[i],Y1,Y2,Y3)\n",
        "        ones,twos,threes = helper(predictions)\n",
        "        ConfusionMatrix[i][0]=ones\n",
        "        ConfusionMatrix[i][1]=twos\n",
        "        ConfusionMatrix[i][2]=threes\n",
        "    return np.asarray(ConfusionMatrix)\n",
        "\n",
        "data={0:X_test[0:1000],1:X_test[1000:2000],2:X_test[2000:3000]}\n",
        "\n",
        "confusion_matrix = Calulate_ConfusionMatrix(data,Y1,Y2,Y3)"
      ]
    },
    {
      "cell_type": "markdown",
      "metadata": {
        "id": "Q5j8DYhOz41u"
      },
      "source": [
        "## Confusion Matrix (Don't Edit)"
      ]
    },
    {
      "cell_type": "code",
      "execution_count": null,
      "metadata": {
        "id": "0qI9zVy_z41u",
        "outputId": "42172d6b-fbf9-431b-9603-7289da157e9a"
      },
      "outputs": [
        {
          "data": {
            "image/png": "[encoded data removed]",
            "text/plain": [
              "<Figure size 360x360 with 1 Axes>"
            ]
          },
          "metadata": {
            "needs_background": "light"
          },
          "output_type": "display_data"
        }
      ],
      "source": [
        "# Make sure the previous cell returns a variable called confusion_matrix\n",
        "# Plot Confusion Matrix\n",
        "accuracy = np.diag(confusion_matrix).sum()/X_test.shape[0]\n",
        "plt.rc('figure', figsize=[5,5])\n",
        "plt.matshow(confusion_matrix,cmap=\"Blues\")\n",
        "plt.title('FLD+RGB = {0:0.3f}'.format(accuracy))\n",
        "for i in range(0,confusion_matrix.shape[0]):\n",
        "    for j in range(0,confusion_matrix.shape[1]):\n",
        "        plt.annotate(confusion_matrix[i,j],(j,i))"
      ]
    },
    {
      "cell_type": "markdown",
      "metadata": {
        "id": "GyOWKSBkz41v"
      },
      "source": [
        "### Repeat for Grayscale"
      ]
    },
    {
      "cell_type": "code",
      "execution_count": null,
      "metadata": {
        "id": "4mYDPqZbz41v",
        "outputId": "cf04b306-88f0-41b2-ce63-670b3d8a2678"
      },
      "outputs": [
        {
          "name": "stdout",
          "output_type": "stream",
          "text": [
            "(15000, 1024) (15000, 1) (3000, 1024) (3000, 1)\n"
          ]
        }
      ],
      "source": [
        "# Write code here\n",
        "def read_gray(path,q):\n",
        "    tmp=np.full((32,32,1),0)\n",
        "    data=np.full((q,32*32),0)\n",
        "    for i in range (0,q):\n",
        "        x= plt.imread(path+str(i)+'.jpg')\n",
        "        for j in range(0,32):\n",
        "            for k in range(0,32):\n",
        "                r = x[j][k][0]\n",
        "                g = x[j][k][1]\n",
        "                b = x[j][k][2]\n",
        "                gray =  0.3*r + 0.59*g + 0.11 * b\n",
        "                tmp[j][k][0] = gray\n",
        "        data[i]=tmp.reshape(-1)\n",
        "    return data\n",
        "\n",
        "#----------------------------------------------------------------------------------------------------------\n",
        "train_air = read_gray('Data/train/airplane/',5000)\n",
        "train_auto = read_gray('Data/train/automobile/',5000)\n",
        "train_frog = read_gray('Data/train/frog/',5000)\n",
        "#----------------------------------------------------------------------------------------------------------\n",
        "test_air = read_gray('Data/test/airplane/',1000)\n",
        "test_auto = read_gray('Data/test/automobile/',1000)\n",
        "test_frog = read_gray('Data/test/frog/',1000)\n",
        "#----------------------------------------------------------------------------------------------------------\n",
        "\n",
        "X_train= np.concatenate((train_air,train_auto,train_frog),axis=0) \n",
        "y_train = np.concatenate((np.full((len(train_air),1),1),np.full((len(train_auto),1),2),np.full((len(train_frog),1),3)),axis=0)\n",
        "X_test = np.concatenate((test_air,test_auto,test_frog),axis=0) \n",
        "y_test = np.concatenate((np.full((len(test_air),1),1),np.full((len(test_auto),1),2),np.full((len(test_frog),1),3)),axis=0)\n",
        "\n",
        "print(X_train.shape, y_train.shape ,X_test.shape ,y_test.shape )\n",
        "# Train\n",
        "Y1=train_classifier(1,X_train)\n",
        "Y2=train_classifier(2,X_train)\n",
        "Y3=train_classifier(3,X_train)\n",
        "# Test\n",
        "data={0:X_test[0:1000],1:X_test[1000:2000],2:X_test[2000:3000]}\n",
        "\n",
        "confusion_matrix = Calulate_ConfusionMatrix(data,Y1,Y2,Y3)"
      ]
    },
    {
      "cell_type": "markdown",
      "metadata": {
        "tags": [],
        "id": "AJQDgmt3z41v"
      },
      "source": [
        "## Confusion Matrix (Don't Edit)"
      ]
    },
    {
      "cell_type": "code",
      "execution_count": null,
      "metadata": {
        "tags": [],
        "id": "f_jpn5ZZz41v",
        "outputId": "609e21e3-a275-4ab2-9607-050d85869e91"
      },
      "outputs": [
        {
          "data": {
            "image/png": "[encoded data removed]",
            "text/plain": [
              "<Figure size 360x360 with 1 Axes>"
            ]
          },
          "metadata": {
            "needs_background": "light"
          },
          "output_type": "display_data"
        }
      ],
      "source": [
        "# Make sure the previous cell returns a variable called confusion_matrix\n",
        "# Plot Confusion Matrix\n",
        "accuracy = np.diag(confusion_matrix).sum()/X_test.shape[0]\n",
        "plt.rc('figure', figsize=[5,5])\n",
        "plt.matshow(confusion_matrix,cmap=\"Blues\")\n",
        "plt.title('FLD+GRAY = {0:0.3f}'.format(accuracy))\n",
        "for i in range(0,confusion_matrix.shape[0]):\n",
        "    for j in range(0,confusion_matrix.shape[1]):\n",
        "        plt.annotate(confusion_matrix[i,j],(j,i))"
      ]
    },
    {
      "cell_type": "markdown",
      "metadata": {
        "id": "eczV3oaYz41w"
      },
      "source": [
        ""
      ]
    },
    {
      "cell_type": "code",
      "source": [
        ""
      ],
      "metadata": {
        "id": "9er_PVLR0LDm"
      },
      "execution_count": null,
      "outputs": []
    }
  ],
  "metadata": {
    "interpreter": {
      "hash": "31f2aee4e71d21fbe5cf8b01ff0e069b9275f58929596ceb00d14d90e3e16cd6"
    },
    "kernelspec": {
      "display_name": "Python 3 (ipykernel)",
      "language": "python",
      "name": "python3"
    },
    "language_info": {
      "codemirror_mode": {
        "name": "ipython",
        "version": 3
      },
      "file_extension": ".py",
      "mimetype": "text/x-python",
      "name": "python",
      "nbconvert_exporter": "python",
      "pygments_lexer": "ipython3",
      "version": "3.8.11"
    },
    "colab": {
      "name": "Linear Discriminant Classifier.ipynb",
      "provenance": []
    }
  },
  "nbformat": 4,
  "nbformat_minor": 0
}