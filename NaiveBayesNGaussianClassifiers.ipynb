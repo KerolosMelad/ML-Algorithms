{
  "cells": [
    {
      "cell_type": "markdown",
      "metadata": {
        "id": "CUQwHouAnnI0"
      },
      "source": [
        "<h1><center>Naive Bayes & Gaussian Generative Model classifiers</center></h1>\n",
        "<hr style=\"border:2px solid black\"> </hr>"
      ]
    },
    {
      "cell_type": "markdown",
      "metadata": {
        "id": "1sjBZxE3nnI5"
      },
      "source": [
        ""
      ]
    },
    {
      "cell_type": "markdown",
      "metadata": {
        "id": "5hfZXqx8nnI6"
      },
      "source": [
        "## Imports "
      ]
    },
    {
      "cell_type": "code",
      "execution_count": null,
      "metadata": {
        "id": "mFwxH-5tnnI7"
      },
      "outputs": [],
      "source": [
        "# ONLY USE THESE IMPORTS.\n",
        "# PLEASE DON'T EDIT THIS CELL.\n",
        "import numpy as np\n",
        "import matplotlib.pyplot as plt\n",
        "import cv2\n",
        "%matplotlib inline\n",
        "confusion_matrices_nb = []\n",
        "confusion_matrices_gm = []"
      ]
    },
    {
      "cell_type": "code",
      "execution_count": null,
      "metadata": {
        "id": "fHezdlqfnued"
      },
      "outputs": [],
      "source": [
        "#from google.colab import files\n",
        "#uploaded = files.upload()"
      ]
    },
    {
      "cell_type": "code",
      "execution_count": null,
      "metadata": {
        "id": "zl8taJm0oR6O"
      },
      "outputs": [],
      "source": [
        "#unzip Data.zip"
      ]
    },
    {
      "cell_type": "markdown",
      "metadata": {
        "id": "y-MzwrZCnnI8"
      },
      "source": [
        "## Read Data"
      ]
    },
    {
      "cell_type": "code",
      "execution_count": null,
      "metadata": {
        "id": "6QTLWC1doEPh"
      },
      "outputs": [],
      "source": [
        "# Read Training Images, Testing Images, Training Labels, Testing Labels\n",
        "def read_rgb(path,q,dimension):\n",
        "    data =np.array([cv2.resize(plt.imread(path+str(i)+'.jpg'), (dimension,dimension), interpolation=cv2.INTER_AREA).reshape(-1) for i in range (0,q)])\n",
        "    return data\n",
        "\n",
        "def Read_Data(dimension):\n",
        "    #----------------------------------------------------------------------------------------------------------\n",
        "    train_air = read_rgb('Data/train/airplane/',5000,dimension)\n",
        "    train_auto = read_rgb('Data/train/automobile/',5000,dimension)\n",
        "    train_frog = read_rgb('Data/train/frog/',5000,dimension)\n",
        "    #----------------------------------------------------------------------------------------------------------\n",
        "    test_air = read_rgb('Data/test/airplane/',1000,dimension)\n",
        "    test_auto = read_rgb('Data/test/automobile/',1000,dimension)\n",
        "    test_frog = read_rgb('Data/test/frog/',1000,dimension)\n",
        "    #----------------------------------------------------------------------------------------------------------\n",
        "\n",
        "    X_train= np.concatenate((train_air,train_auto,train_frog),axis=0) /255\n",
        "    y_train = np.concatenate((np.full((len(train_air),1),1),np.full((len(train_auto),1),2),np.full((len(train_frog),1),3)),axis=0)\n",
        "    X_test = np.concatenate((test_air,test_auto,test_frog),axis=0) /255\n",
        "    y_test = np.concatenate((np.full((len(test_air),1),1),np.full((len(test_auto),1),2),np.full((len(test_frog),1),3)),axis=0)\n",
        "\n",
        "    print(X_train.shape, y_train.shape ,X_test.shape ,y_test.shape )\n",
        "    \n",
        "    return X_train , X_test \n"
      ]
    },
    {
      "cell_type": "markdown",
      "metadata": {
        "id": "sGhrCv3jnnI9"
      },
      "source": [
        "<hr style=\"border:2px solid black\"> </hr>\n",
        "\n",
        "## Construct Naive Bayes classifier for each of the 3 classes.\n",
        "#### Test each classifier on all images in X_Test. \n",
        "#### Construct Confusion Matrix."
      ]
    },
    {
      "cell_type": "code",
      "execution_count": null,
      "metadata": {
        "id": "20rjiRaUnnI-"
      },
      "outputs": [],
      "source": [
        "def train_classifier_NB(target ,x_train):\n",
        "    if(target == 1):\n",
        "        X1 =x_train[:5000,:]\n",
        "        m1 = np.mean(X1,axis=0)\n",
        "        v1 = np.var(X1,axis=0)\n",
        "\n",
        "    elif(target == 2):\n",
        "        X1 =x_train[5000:10000,:]\n",
        "        m1 = np.mean(X1,axis=0)\n",
        "        v1 = np.var(X1,axis=0)\n",
        "\n",
        "    else:\n",
        "        X1=x_train[10000:15000,:]\n",
        "        m1 = np.mean(X1,axis=0)\n",
        "        v1 = np.var(X1,axis=0)\n",
        "    \n",
        "\n",
        "    return m1, v1\n",
        "\n",
        "def Norm(val,mean,var):\n",
        "    x=-((val-mean)**2.0)/(2.0*var)\n",
        "    f=1.0/((2.0*np.pi*var)**(0.5))\n",
        "    return f*np.exp(x)\n",
        "\n",
        "def predict_NB(imgs,Y1,Y2,Y3):\n",
        "    predictions =[]\n",
        "    p1=[]\n",
        "    p2=[]\n",
        "    p3=[]\n",
        "    i =0\n",
        "\n",
        "    for i in range(0,len(imgs)):\n",
        "        y_r1=Norm(imgs[i],Y1[0],Y1[1])\n",
        "        y_r2=Norm(imgs[i],Y2[0],Y2[1])\n",
        "        y_r3=Norm(imgs[i],Y3[0],Y3[1])\n",
        "        t1 = np.product(y_r1)\n",
        "        t2 = np.product(y_r2)\n",
        "        t3 = np.product(y_r3)\n",
        "        p1.append(t1)\n",
        "        p2.append(t2)\n",
        "        p3.append(t3)\n",
        "\n",
        "        if(t1 == max(t1,t2,t3)):\n",
        "            predictions.append(1)\n",
        "        elif(t2 == max(t1,t2,t3)):\n",
        "            predictions.append(2)\n",
        "        else:\n",
        "            predictions.append(3)\n",
        "    \n",
        "    return p1,p2,p3,predictions\n",
        "\n",
        "def Calulate_ConfusionMatrix(predictions):\n",
        "    ones_1 = (predictions[:1000]==).sum()\n",
        "    twos_1 = (predictions[:1000]==np.full((1000),2)).sum()\n",
        "    threes_1 = (predictions[:1000]==np.full((1000),3)).sum()\n",
        "\n",
        "    ones_2 = (predictions[1000:2000]==np.ones(1000)).sum()\n",
        "    twos_2 = (predictions[1000:2000]==np.full((1000),2)).sum()\n",
        "    threes_2 = (predictions[1000:2000]==np.full((1000),3)).sum()\n",
        "\n",
        "    ones_3 = (predictions[2000:3000]==np.ones(1000)).sum()\n",
        "    twos_3 = (predictions[2000:3000]==np.full((1000),2)).sum()\n",
        "    threes_3 = (predictions[2000:3000]==np.full((1000),3)).sum()\n",
        "\n",
        "    ConfusionMatrix = np.array([[ones_1,twos_1,threes_1],[ones_2,twos_2,threes_2],[ones_3,twos_3,threes_3]])\n",
        "    return ConfusionMatrix\n",
        "\n",
        "def solve_NB(X_train,X_test): \n",
        "    Y1=train_classifier_NB(1,X_train)\n",
        "    Y2=train_classifier_NB(2,X_train)\n",
        "    Y3=train_classifier_NB(3,X_train)\n",
        "    data=X_test\n",
        "    p1,p2,p3,predictions= predict_NB(data,Y1,Y2,Y3)\n",
        "    confusion_matrix = Calulate_ConfusionMatrix(predictions)\n",
        "    return confusion_matrix,predictions,p1,p2,p3\n",
        "\n"
      ]
    },
    {
      "cell_type": "code",
      "execution_count": null,
      "metadata": {
        "id": "RUrmsaoF0l3E",
        "outputId": "6f86ab5c-94f3-42fd-c7ee-c5552a7fd07f"
      },
      "outputs": [
        {
          "name": "stdout",
          "output_type": "stream",
          "text": [
            "(15000, 3072) (15000, 1) (3000, 3072) (3000, 1)\n"
          ]
        },
        {
          "name": "stderr",
          "output_type": "stream",
          "text": [
            "C:\\Users\\RC\\.conda\\envs\\vRing\\lib\\site-packages\\numpy\\core\\fromnumeric.py:87: RuntimeWarning: overflow encountered in reduce\n",
            "  return ufunc.reduce(obj, axis, dtype, out, **passkwargs)\n"
          ]
        }
      ],
      "source": [
        "X_train,X_test =Read_Data(32)\n",
        "confusion_matrix,predictions,p1,p2,p3 = solve_NB(X_train,X_test)"
      ]
    },
    {
      "cell_type": "code",
      "execution_count": null,
      "metadata": {
        "id": "O2is-1q40l3F",
        "outputId": "780450e5-188d-405c-fb4a-a14489a2a73a"
      },
      "outputs": [
        {
          "data": {
            "text/plain": [
              "array([[769, 134,  97],\n",
              "       [324, 389, 287],\n",
              "       [240, 139, 621]])"
            ]
          },
          "execution_count": 7,
          "metadata": {},
          "output_type": "execute_result"
        }
      ],
      "source": [
        "confusion_matrix"
      ]
    },
    {
      "cell_type": "code",
      "execution_count": null,
      "metadata": {
        "id": "8Gpmm0GYrlhO"
      },
      "outputs": [],
      "source": [
        "confusion_matrices_nb += [confusion_matrix]\n"
      ]
    },
    {
      "cell_type": "markdown",
      "metadata": {
        "id": "4ZV9mBAjnnI_"
      },
      "source": [
        "<hr style=\"border:2px solid black\"> </hr>\n",
        "\n",
        "## Construct Gaussian Generative Model classifier for each of the 3 classes.\n",
        "#### Test each classifier on all images in X_Test. \n",
        "#### Construct Confusion Matrix."
      ]
    },
    {
      "cell_type": "code",
      "execution_count": null,
      "metadata": {
        "id": "MSbiLL2bnnJA"
      },
      "outputs": [],
      "source": [
        "from matplotlib.cbook import STEP_LOOKUP_MAP\n",
        "# Write code here\n",
        "def train_classifier_GM(target ,x_train):\n",
        "    if(target == 1):\n",
        "        X1 =x_train[:5000,:]\n",
        "        m1 = np.mean(X1,axis=0)\n",
        "\n",
        "    elif(target == 2):\n",
        "        X1 =x_train[5000:10000,:]\n",
        "        m1 = np.mean(X1,axis=0)\n",
        "\n",
        "    else:\n",
        "        X1=x_train[10000:15000,:]\n",
        "        m1 = np.mean(X1,axis=0)\n",
        "    \n",
        "    temp = X1-m1\n",
        "\n",
        "    result = np.transpose(temp)@temp\n",
        "    return m1, result\n",
        "\n",
        "\n",
        "def predict_GM(imgs,Y1,Y2,Y3,covI):\n",
        "    predictions =[]\n",
        "    p1=[]\n",
        "    p2=[]\n",
        "    p3=[]\n",
        "    i =0\n",
        "\n",
        "    for i in range(0,len(imgs)):\n",
        "        \n",
        "        temp1 = imgs[i]-Y1[0]\n",
        "        temp2 = imgs[i]-Y2[0]\n",
        "        temp3 = imgs[i]-Y3[0]\n",
        "\n",
        "        stemp1=temp1@covI@np.transpose(temp1)\n",
        "        stemp2=temp2@covI@np.transpose(temp2)\n",
        "        stemp3=temp3@covI@np.transpose(temp3)\n",
        "\n",
        "        t1=np.exp(-0.5*stemp1)\n",
        "        t2=np.exp(-0.5*stemp2)\n",
        "        t3=np.exp(-0.5*stemp3)\n",
        "\n",
        "        p1.append(t1)\n",
        "        p2.append(t2)\n",
        "        p3.append(t3)\n",
        "\n",
        "        if(t1 == max(t1,t2,t3)):\n",
        "            predictions.append(1)\n",
        "        elif(t2 == max(t1,t2,t3)):\n",
        "            predictions.append(2)\n",
        "        else:\n",
        "            predictions.append(3)\n",
        "    \n",
        "    return p1,p2,p3,predictions\n",
        "\n",
        "\n",
        "    \n",
        "def solve_GM(X_train,X_test): \n",
        "    Y1=train_classifier_GM(1,X_train)\n",
        "    Y2=train_classifier_GM(2,X_train)\n",
        "    Y3=train_classifier_GM(3,X_train)\n",
        "    cov = ((1/3)*Y1[1])+((1/3)*Y2[1])+((1/3)*Y3[1])\n",
        "    covI = np.linalg.pinv(cov)\n",
        "    data=X_test\n",
        "    p1,p2,p3,predictions= predict_GM(data,Y1,Y2,Y3,covI)\n",
        "    confusion_matrix = Calulate_ConfusionMatrix(predictions)\n",
        "    return confusion_matrix,predictions,p1,p2,p3\n"
      ]
    },
    {
      "cell_type": "code",
      "execution_count": null,
      "metadata": {
        "id": "OurkzJEe0l3G"
      },
      "outputs": [],
      "source": [
        "        \n",
        "        covI = np.linalg.pinv((1/3)*X1-m1)+((1/3)*Y2[1])+((1/3)*Y3[1])\n",
        "        \n",
        "        temp1 = imgs[i]-Y1[0]\n",
        "        stemp1=temp1@covI@np.transpose(temp1)\n",
        "        stemp2=temp2@covI@np.transpose(temp2)\n",
        "        stemp3=temp3@covI@np.transpose(temp3)\n",
        "\n",
        "        t1=np.exp(-0.5*stemp1)\n",
        "        t2=np.exp(-0.5*stemp2)\n",
        "        t3=np.exp(-0.5*stemp3)"
      ]
    },
    {
      "cell_type": "code",
      "execution_count": null,
      "metadata": {
        "id": "qXqi_wEP0l3G"
      },
      "outputs": [],
      "source": [
        "confusion_matrix,predictions,p1,p2,p3 = solve_GM(X_train,X_test)"
      ]
    },
    {
      "cell_type": "code",
      "execution_count": null,
      "metadata": {
        "id": "GE0T8l-E0l3H",
        "outputId": "f6503354-a4d1-403a-9bd3-bcda7598888c"
      },
      "outputs": [
        {
          "data": {
            "text/plain": [
              "array([[769, 127, 104],\n",
              "       [192, 672, 136],\n",
              "       [ 83, 126, 791]])"
            ]
          },
          "execution_count": 11,
          "metadata": {},
          "output_type": "execute_result"
        }
      ],
      "source": [
        "confusion_matrix"
      ]
    },
    {
      "cell_type": "code",
      "execution_count": null,
      "metadata": {
        "id": "gZipny6Rr2y1"
      },
      "outputs": [],
      "source": [
        "confusion_matrices_gm += [confusion_matrix]\n"
      ]
    },
    {
      "cell_type": "markdown",
      "metadata": {
        "id": "TTYGPMTwnnJA"
      },
      "source": [
        "<hr style=\"border:2px solid black\"> </hr>\n",
        "\n",
        "## Repeat previous two confusion matrices for image sizes 16,8,4.\n",
        "### Return confusion_matrices (array containing 8 matrices, 4 for naive bayes, 4 for gaussian generative model). \n",
        "#### confusion_matrices_nb = [confusion_matrix_nb_32, confusion_matrix_nb_16, confusion_matrix_nb_8, confusion_matrix_nb_4].\n",
        "#### confusion_matrices_gm = [confusion_matrix_gm_32, confusion_matrix_gm_16, confusion_matrix_gm_8, confusion_matrix_gm_4]."
      ]
    },
    {
      "cell_type": "markdown",
      "metadata": {
        "id": "QGIsWHxyvams"
      },
      "source": [
        "Gaussian for 16x16:\n"
      ]
    },
    {
      "cell_type": "code",
      "execution_count": null,
      "metadata": {
        "id": "GAedV5py0l3H",
        "outputId": "9542587e-0d2d-4ec0-be9b-347763681e1e"
      },
      "outputs": [
        {
          "name": "stdout",
          "output_type": "stream",
          "text": [
            "(15000, 768) (15000, 1) (3000, 768) (3000, 1)\n"
          ]
        }
      ],
      "source": [
        "X_train,X_test =Read_Data(16)"
      ]
    },
    {
      "cell_type": "code",
      "execution_count": null,
      "metadata": {
        "id": "u8-i4Pg2tUha"
      },
      "outputs": [],
      "source": [
        "confusion_matrix,predictions,p1,p2,p3 = solve_NB(X_train,X_test)\n",
        "confusion_matrices_nb += [confusion_matrix]\n"
      ]
    },
    {
      "cell_type": "code",
      "execution_count": null,
      "metadata": {
        "id": "8iiqr5jxrqsp"
      },
      "outputs": [],
      "source": [
        "confusion_matrix,predictions,p1,p2,p3 = solve_GM(X_train,X_test)\n",
        "confusion_matrices_gm += [confusion_matrix]\n"
      ]
    },
    {
      "cell_type": "code",
      "execution_count": null,
      "metadata": {
        "id": "L3rb6uCV0l3I",
        "outputId": "40256a5f-1994-4e12-9e7d-6a598d67e4e4"
      },
      "outputs": [
        {
          "name": "stdout",
          "output_type": "stream",
          "text": [
            "(15000, 192) (15000, 1) (3000, 192) (3000, 1)\n"
          ]
        }
      ],
      "source": [
        "X_train,X_test =Read_Data(8)"
      ]
    },
    {
      "cell_type": "code",
      "execution_count": null,
      "metadata": {
        "id": "SqmtDH-e0l3I"
      },
      "outputs": [],
      "source": [
        "confusion_matrix,predictions,p1,p2,p3 = solve_NB(X_train,X_test)\n",
        "confusion_matrices_nb += [confusion_matrix]"
      ]
    },
    {
      "cell_type": "code",
      "execution_count": null,
      "metadata": {
        "id": "4ZipGvVPvQmL"
      },
      "outputs": [],
      "source": [
        "confusion_matrix,predictions,p1,p2,p3 = solve_GM(X_train,X_test)\n",
        "confusion_matrices_gm += [confusion_matrix]"
      ]
    },
    {
      "cell_type": "code",
      "execution_count": null,
      "metadata": {
        "colab": {
          "base_uri": "https://localhost:8080/"
        },
        "id": "xWcxJVFzqLeD",
        "outputId": "a149e966-313d-495d-cc3b-90679ee56d01"
      },
      "outputs": [
        {
          "name": "stdout",
          "output_type": "stream",
          "text": [
            "(15000, 48) (15000, 1) (3000, 48) (3000, 1)\n"
          ]
        }
      ],
      "source": [
        "X_train,X_test =Read_Data(4)\n"
      ]
    },
    {
      "cell_type": "code",
      "execution_count": null,
      "metadata": {
        "id": "kh9KHEVCrtJG"
      },
      "outputs": [],
      "source": [
        "confusion_matrix,predictions,p1,p2,p3 = solve_NB(X_train,X_test)\n",
        "confusion_matrices_nb += [confusion_matrix]"
      ]
    },
    {
      "cell_type": "code",
      "execution_count": null,
      "metadata": {
        "id": "tUDG0g6sqgDj"
      },
      "outputs": [],
      "source": [
        "confusion_matrix,predictions,p1,p2,p3 = solve_GM(X_train,X_test)\n",
        "confusion_matrices_gm += [confusion_matrix]"
      ]
    },
    {
      "cell_type": "code",
      "execution_count": null,
      "metadata": {
        "id": "IEwZGGzisKTo"
      },
      "outputs": [],
      "source": [
        "confusion_matrices = confusion_matrices_nb + confusion_matrices_gm"
      ]
    },
    {
      "cell_type": "code",
      "execution_count": null,
      "metadata": {
        "id": "TaPIMS2Eq-cb"
      },
      "outputs": [],
      "source": [
        ""
      ]
    },
    {
      "cell_type": "code",
      "execution_count": null,
      "metadata": {
        "id": "dZm8I_Xdrvnu"
      },
      "outputs": [],
      "source": [
        ""
      ]
    },
    {
      "cell_type": "code",
      "execution_count": null,
      "metadata": {
        "id": "pckHCxB6rRQx"
      },
      "outputs": [],
      "source": [
        ""
      ]
    },
    {
      "cell_type": "code",
      "execution_count": null,
      "metadata": {
        "id": "ER290fSxsMSZ"
      },
      "outputs": [],
      "source": [
        ""
      ]
    },
    {
      "cell_type": "code",
      "execution_count": null,
      "metadata": {
        "id": "Bk1Y1RMBnnJB"
      },
      "outputs": [],
      "source": [
        ""
      ]
    },
    {
      "cell_type": "markdown",
      "metadata": {
        "id": "VCsMyJgLnnJB"
      },
      "source": [
        "<hr style=\"border:2px solid black\"> </hr>\n",
        "\n",
        "## The below 2 cells will only work if you return confusion_matrices (previous cell) with all 8 matrices in it.\n",
        "## Please don't edit the below cells.\n",
        "## Please run them and save the notebook before uploading so the script can check the saved image.\n",
        "## Please don't change the order of the matrices.\n"
      ]
    },
    {
      "cell_type": "code",
      "execution_count": null,
      "metadata": {
        "colab": {
          "base_uri": "https://localhost:8080/",
          "height": 648
        },
        "id": "jYKTn5XtnnJC",
        "outputId": "a016fde4-4d8f-4829-d61f-e6a2d67cef05"
      },
      "outputs": [
        {
          "data": {
            "image/png": "[encoded data removed]",
            "text/plain": [
              "<Figure size 1440x720 with 8 Axes>"
            ]
          },
          "metadata": {},
          "output_type": "display_data"
        }
      ],
      "source": [
        "dims = [32,16,8,4,32,16,8,4]\n",
        "fig, axs = plt.subplots(2, 4,figsize=(20,10))\n",
        "fig.suptitle(\"Confusion Matrix for each Scale\",fontsize=30)\n",
        "for pi in range(0,axs.shape[0]):\n",
        "    for pj in range(0,axs.shape[1]):\n",
        "        index = np.round(pi*4+pj)\n",
        "        cm = confusion_matrices[index]\n",
        "        axs[pi,pj].matshow(cm,cmap=\"Blues\")\n",
        "        axs[pi,pj].set_title(\"For d=\"+str(dims[index])+\" ,acc=\"+str(np.round(np.diag(cm).sum()/3000,3)),fontsize=20)\n",
        "        for i in range(0,cm.shape[0]):\n",
        "            for j in range(0,cm.shape[1]):\n",
        "                axs[pi,pj].set_xticks([])\n",
        "                axs[pi,pj].set_yticks([])\n",
        "                axs[pi,pj].annotate(cm[i,j],(j,i))"
      ]
    },
    {
      "cell_type": "code",
      "execution_count": null,
      "metadata": {
        "colab": {
          "base_uri": "https://localhost:8080/",
          "height": 638
        },
        "id": "vgeAPmZ-nnJC",
        "outputId": "b1ac8577-9bc6-4547-83b3-7aca82b645cb"
      },
      "outputs": [
        {
          "data": {
            "text/plain": [
              "Text(0.5, 1.0, 'NB VS GM')"
            ]
          },
          "execution_count": 24,
          "metadata": {},
          "output_type": "execute_result"
        },
        {
          "data": {
            "image/png": "[encoded data removed]",
            "text/plain": [
              "<Figure size 1440x720 with 1 Axes>"
            ]
          },
          "metadata": {
            "needs_background": "light"
          },
          "output_type": "display_data"
        }
      ],
      "source": [
        "plt.figure(figsize=(20,10))\n",
        "plt.plot(dims[:4],[np.diag(cm).sum()/3000 for cm in confusion_matrices_nb],color='orange')\n",
        "plt.plot(dims[:4],[np.diag(cm).sum()/3000 for cm in confusion_matrices_gm],color='blue')\n",
        "plt.xlabel('Scale')\n",
        "plt.ylabel('Accuracy')\n",
        "plt.title('NB VS GM')"
      ]
    },
    {
      "cell_type": "markdown",
      "metadata": {
        "id": "K9v-EKG_nnJC"
      },
      "source": [
        "<hr style=\"border:2px solid black\"> </hr>\n",
        "\n",
        "## Comment on the results ##\n",
        "### \n",
        "Gaussian Generative Model classifier got 10% accuracy Higher than Naive Bayes. GM Classifier is better in this case.\n",
        "\n",
        "That's because the some of the pixels of the three entities is some how dependent on each other.\n",
        "\n",
        "Therefore it violate the features independency assumption of the naive bayes classifier.\n",
        "###"
      ]
    },
    {
      "cell_type": "code",
      "execution_count": null,
      "metadata": {
        "id": "CO_gfF4d0l3K"
      },
      "outputs": [],
      "source": [
        ""
      ]
    }
  ],
  "metadata": {
    "colab": {
      "collapsed_sections": [],
      "name": "NaiveBayesNGaussianModel - Copy.ipynb",
      "provenance": []
    },
    "interpreter": {
      "hash": "31f2aee4e71d21fbe5cf8b01ff0e069b9275f58929596ceb00d14d90e3e16cd6"
    },
    "kernelspec": {
      "display_name": "Python 3 (ipykernel)",
      "language": "python",
      "name": "python3"
    },
    "language_info": {
      "codemirror_mode": {
        "name": "ipython",
        "version": 3
      },
      "file_extension": ".py",
      "mimetype": "text/x-python",
      "name": "python",
      "nbconvert_exporter": "python",
      "pygments_lexer": "ipython3",
      "version": "3.8.11"
    }
  },
  "nbformat": 4,
  "nbformat_minor": 0
}
